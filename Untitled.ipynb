{
 "cells": [
  {
   "cell_type": "code",
   "execution_count": 4,
   "id": "937f3b49",
   "metadata": {},
   "outputs": [],
   "source": [
    "import pandas as pd\n",
    "import numpy as np\n",
    "import difflib #rectify of spelling mistake and find closed values by user \n",
    "from sklearn.feature_extraction.text import TfidfVectorizer\n",
    "from sklearn.metrics.pairwise import cosine_similarity\n"
   ]
  },
  {
   "cell_type": "markdown",
   "id": "cef1382f",
   "metadata": {},
   "source": [
    "# Data Collection & processing"
   ]
  },
  {
   "cell_type": "code",
   "execution_count": 5,
   "id": "ed3f2f09",
   "metadata": {},
   "outputs": [],
   "source": [
    "#loading data to pandas dataframe\n",
    "movies_data=pd.read_csv(\"movies.csv\")"
   ]
  },
  {
   "cell_type": "code",
   "execution_count": 23,
   "id": "bddaa049",
   "metadata": {},
   "outputs": [
    {
     "data": {
      "text/html": [
       "<div>\n",
       "<style scoped>\n",
       "    .dataframe tbody tr th:only-of-type {\n",
       "        vertical-align: middle;\n",
       "    }\n",
       "\n",
       "    .dataframe tbody tr th {\n",
       "        vertical-align: top;\n",
       "    }\n",
       "\n",
       "    .dataframe thead th {\n",
       "        text-align: right;\n",
       "    }\n",
       "</style>\n",
       "<table border=\"1\" class=\"dataframe\">\n",
       "  <thead>\n",
       "    <tr style=\"text-align: right;\">\n",
       "      <th></th>\n",
       "      <th>index</th>\n",
       "      <th>budget</th>\n",
       "      <th>genres</th>\n",
       "      <th>homepage</th>\n",
       "      <th>id</th>\n",
       "      <th>keywords</th>\n",
       "      <th>original_language</th>\n",
       "      <th>original_title</th>\n",
       "      <th>overview</th>\n",
       "      <th>popularity</th>\n",
       "      <th>...</th>\n",
       "      <th>runtime</th>\n",
       "      <th>spoken_languages</th>\n",
       "      <th>status</th>\n",
       "      <th>tagline</th>\n",
       "      <th>title</th>\n",
       "      <th>vote_average</th>\n",
       "      <th>vote_count</th>\n",
       "      <th>cast</th>\n",
       "      <th>crew</th>\n",
       "      <th>director</th>\n",
       "    </tr>\n",
       "  </thead>\n",
       "  <tbody>\n",
       "    <tr>\n",
       "      <th>4798</th>\n",
       "      <td>4798</td>\n",
       "      <td>220000</td>\n",
       "      <td>Action Crime Thriller</td>\n",
       "      <td>NaN</td>\n",
       "      <td>9367</td>\n",
       "      <td>united states\\u2013mexico barrier legs arms pa...</td>\n",
       "      <td>es</td>\n",
       "      <td>El Mariachi</td>\n",
       "      <td>El Mariachi just wants to play his guitar and ...</td>\n",
       "      <td>14.269792</td>\n",
       "      <td>...</td>\n",
       "      <td>81.0</td>\n",
       "      <td>[{\"iso_639_1\": \"es\", \"name\": \"Espa\\u00f1ol\"}]</td>\n",
       "      <td>Released</td>\n",
       "      <td>He didn't come looking for trouble, but troubl...</td>\n",
       "      <td>El Mariachi</td>\n",
       "      <td>6.6</td>\n",
       "      <td>238</td>\n",
       "      <td>Carlos Gallardo Jaime de Hoyos Peter Marquardt...</td>\n",
       "      <td>[{'name': 'Robert Rodriguez', 'gender': 0, 'de...</td>\n",
       "      <td>Robert Rodriguez</td>\n",
       "    </tr>\n",
       "    <tr>\n",
       "      <th>4799</th>\n",
       "      <td>4799</td>\n",
       "      <td>9000</td>\n",
       "      <td>Comedy Romance</td>\n",
       "      <td>NaN</td>\n",
       "      <td>72766</td>\n",
       "      <td>NaN</td>\n",
       "      <td>en</td>\n",
       "      <td>Newlyweds</td>\n",
       "      <td>A newlywed couple's honeymoon is upended by th...</td>\n",
       "      <td>0.642552</td>\n",
       "      <td>...</td>\n",
       "      <td>85.0</td>\n",
       "      <td>[]</td>\n",
       "      <td>Released</td>\n",
       "      <td>A newlywed couple's honeymoon is upended by th...</td>\n",
       "      <td>Newlyweds</td>\n",
       "      <td>5.9</td>\n",
       "      <td>5</td>\n",
       "      <td>Edward Burns Kerry Bish\\u00e9 Marsha Dietlein ...</td>\n",
       "      <td>[{'name': 'Edward Burns', 'gender': 2, 'depart...</td>\n",
       "      <td>Edward Burns</td>\n",
       "    </tr>\n",
       "    <tr>\n",
       "      <th>4800</th>\n",
       "      <td>4800</td>\n",
       "      <td>0</td>\n",
       "      <td>Comedy Drama Romance TV Movie</td>\n",
       "      <td>http://www.hallmarkchannel.com/signedsealeddel...</td>\n",
       "      <td>231617</td>\n",
       "      <td>date love at first sight narration investigati...</td>\n",
       "      <td>en</td>\n",
       "      <td>Signed, Sealed, Delivered</td>\n",
       "      <td>\"Signed, Sealed, Delivered\" introduces a dedic...</td>\n",
       "      <td>1.444476</td>\n",
       "      <td>...</td>\n",
       "      <td>120.0</td>\n",
       "      <td>[{\"iso_639_1\": \"en\", \"name\": \"English\"}]</td>\n",
       "      <td>Released</td>\n",
       "      <td>NaN</td>\n",
       "      <td>Signed, Sealed, Delivered</td>\n",
       "      <td>7.0</td>\n",
       "      <td>6</td>\n",
       "      <td>Eric Mabius Kristin Booth Crystal Lowe Geoff G...</td>\n",
       "      <td>[{'name': 'Carla Hetland', 'gender': 0, 'depar...</td>\n",
       "      <td>Scott Smith</td>\n",
       "    </tr>\n",
       "    <tr>\n",
       "      <th>4801</th>\n",
       "      <td>4801</td>\n",
       "      <td>0</td>\n",
       "      <td>NaN</td>\n",
       "      <td>http://shanghaicalling.com/</td>\n",
       "      <td>126186</td>\n",
       "      <td>NaN</td>\n",
       "      <td>en</td>\n",
       "      <td>Shanghai Calling</td>\n",
       "      <td>When ambitious New York attorney Sam is sent t...</td>\n",
       "      <td>0.857008</td>\n",
       "      <td>...</td>\n",
       "      <td>98.0</td>\n",
       "      <td>[{\"iso_639_1\": \"en\", \"name\": \"English\"}]</td>\n",
       "      <td>Released</td>\n",
       "      <td>A New Yorker in Shanghai</td>\n",
       "      <td>Shanghai Calling</td>\n",
       "      <td>5.7</td>\n",
       "      <td>7</td>\n",
       "      <td>Daniel Henney Eliza Coupe Bill Paxton Alan Ruc...</td>\n",
       "      <td>[{'name': 'Daniel Hsia', 'gender': 2, 'departm...</td>\n",
       "      <td>Daniel Hsia</td>\n",
       "    </tr>\n",
       "    <tr>\n",
       "      <th>4802</th>\n",
       "      <td>4802</td>\n",
       "      <td>0</td>\n",
       "      <td>Documentary</td>\n",
       "      <td>NaN</td>\n",
       "      <td>25975</td>\n",
       "      <td>obsession camcorder crush dream girl</td>\n",
       "      <td>en</td>\n",
       "      <td>My Date with Drew</td>\n",
       "      <td>Ever since the second grade when he first saw ...</td>\n",
       "      <td>1.929883</td>\n",
       "      <td>...</td>\n",
       "      <td>90.0</td>\n",
       "      <td>[{\"iso_639_1\": \"en\", \"name\": \"English\"}]</td>\n",
       "      <td>Released</td>\n",
       "      <td>NaN</td>\n",
       "      <td>My Date with Drew</td>\n",
       "      <td>6.3</td>\n",
       "      <td>16</td>\n",
       "      <td>Drew Barrymore Brian Herzlinger Corey Feldman ...</td>\n",
       "      <td>[{'name': 'Clark Peterson', 'gender': 2, 'depa...</td>\n",
       "      <td>Brian Herzlinger</td>\n",
       "    </tr>\n",
       "  </tbody>\n",
       "</table>\n",
       "<p>5 rows × 24 columns</p>\n",
       "</div>"
      ],
      "text/plain": [
       "      index  budget                         genres  \\\n",
       "4798   4798  220000          Action Crime Thriller   \n",
       "4799   4799    9000                 Comedy Romance   \n",
       "4800   4800       0  Comedy Drama Romance TV Movie   \n",
       "4801   4801       0                            NaN   \n",
       "4802   4802       0                    Documentary   \n",
       "\n",
       "                                               homepage      id  \\\n",
       "4798                                                NaN    9367   \n",
       "4799                                                NaN   72766   \n",
       "4800  http://www.hallmarkchannel.com/signedsealeddel...  231617   \n",
       "4801                        http://shanghaicalling.com/  126186   \n",
       "4802                                                NaN   25975   \n",
       "\n",
       "                                               keywords original_language  \\\n",
       "4798  united states\\u2013mexico barrier legs arms pa...                es   \n",
       "4799                                                NaN                en   \n",
       "4800  date love at first sight narration investigati...                en   \n",
       "4801                                                NaN                en   \n",
       "4802               obsession camcorder crush dream girl                en   \n",
       "\n",
       "                 original_title  \\\n",
       "4798                El Mariachi   \n",
       "4799                  Newlyweds   \n",
       "4800  Signed, Sealed, Delivered   \n",
       "4801           Shanghai Calling   \n",
       "4802          My Date with Drew   \n",
       "\n",
       "                                               overview  popularity  ...  \\\n",
       "4798  El Mariachi just wants to play his guitar and ...   14.269792  ...   \n",
       "4799  A newlywed couple's honeymoon is upended by th...    0.642552  ...   \n",
       "4800  \"Signed, Sealed, Delivered\" introduces a dedic...    1.444476  ...   \n",
       "4801  When ambitious New York attorney Sam is sent t...    0.857008  ...   \n",
       "4802  Ever since the second grade when he first saw ...    1.929883  ...   \n",
       "\n",
       "     runtime                               spoken_languages    status  \\\n",
       "4798    81.0  [{\"iso_639_1\": \"es\", \"name\": \"Espa\\u00f1ol\"}]  Released   \n",
       "4799    85.0                                             []  Released   \n",
       "4800   120.0       [{\"iso_639_1\": \"en\", \"name\": \"English\"}]  Released   \n",
       "4801    98.0       [{\"iso_639_1\": \"en\", \"name\": \"English\"}]  Released   \n",
       "4802    90.0       [{\"iso_639_1\": \"en\", \"name\": \"English\"}]  Released   \n",
       "\n",
       "                                                tagline  \\\n",
       "4798  He didn't come looking for trouble, but troubl...   \n",
       "4799  A newlywed couple's honeymoon is upended by th...   \n",
       "4800                                                NaN   \n",
       "4801                           A New Yorker in Shanghai   \n",
       "4802                                                NaN   \n",
       "\n",
       "                          title vote_average vote_count  \\\n",
       "4798                El Mariachi          6.6        238   \n",
       "4799                  Newlyweds          5.9          5   \n",
       "4800  Signed, Sealed, Delivered          7.0          6   \n",
       "4801           Shanghai Calling          5.7          7   \n",
       "4802          My Date with Drew          6.3         16   \n",
       "\n",
       "                                                   cast  \\\n",
       "4798  Carlos Gallardo Jaime de Hoyos Peter Marquardt...   \n",
       "4799  Edward Burns Kerry Bish\\u00e9 Marsha Dietlein ...   \n",
       "4800  Eric Mabius Kristin Booth Crystal Lowe Geoff G...   \n",
       "4801  Daniel Henney Eliza Coupe Bill Paxton Alan Ruc...   \n",
       "4802  Drew Barrymore Brian Herzlinger Corey Feldman ...   \n",
       "\n",
       "                                                   crew          director  \n",
       "4798  [{'name': 'Robert Rodriguez', 'gender': 0, 'de...  Robert Rodriguez  \n",
       "4799  [{'name': 'Edward Burns', 'gender': 2, 'depart...      Edward Burns  \n",
       "4800  [{'name': 'Carla Hetland', 'gender': 0, 'depar...       Scott Smith  \n",
       "4801  [{'name': 'Daniel Hsia', 'gender': 2, 'departm...       Daniel Hsia  \n",
       "4802  [{'name': 'Clark Peterson', 'gender': 2, 'depa...  Brian Herzlinger  \n",
       "\n",
       "[5 rows x 24 columns]"
      ]
     },
     "execution_count": 23,
     "metadata": {},
     "output_type": "execute_result"
    }
   ],
   "source": [
    "# checking the columns of the data set\n",
    "movies_data.head()\n",
    "movies_data.tail()"
   ]
  },
  {
   "cell_type": "code",
   "execution_count": 7,
   "id": "446896e6",
   "metadata": {},
   "outputs": [
    {
     "data": {
      "text/plain": [
       "(4803, 24)"
      ]
     },
     "execution_count": 7,
     "metadata": {},
     "output_type": "execute_result"
    }
   ],
   "source": [
    "# no of rows and columns in dataframe\n",
    "movies_data.shape"
   ]
  },
  {
   "cell_type": "code",
   "execution_count": 8,
   "id": "10b6489c",
   "metadata": {},
   "outputs": [
    {
     "name": "stdout",
     "output_type": "stream",
     "text": [
      "['genres', 'keywords', 'overview', 'tagline', 'cast', 'director']\n"
     ]
    }
   ],
   "source": [
    "# selecting the feature (feature extraction)\n",
    "selected_feature=['genres','keywords','overview','tagline','cast','director']\n",
    "print(selected_feature)\n"
   ]
  },
  {
   "cell_type": "code",
   "execution_count": 24,
   "id": "7df24631",
   "metadata": {},
   "outputs": [],
   "source": [
    "# replacing the missing or null values with null string\n",
    "for feature in selected_feature:\n",
    "    movies_data[feature]=movies_data[feature].fillna('')"
   ]
  },
  {
   "cell_type": "code",
   "execution_count": 25,
   "id": "506043e0",
   "metadata": {},
   "outputs": [],
   "source": [
    "# combining all the 6 selected feature\n",
    "combined_feature=movies_data['genres']+' '+movies_data['keywords']+' '+movies_data['overview']+' '+movies_data['tagline']+' '+movies_data['cast']+' '+movies_data['director']"
   ]
  },
  {
   "cell_type": "code",
   "execution_count": 26,
   "id": "a7d55ef1",
   "metadata": {},
   "outputs": [
    {
     "data": {
      "text/plain": [
       "0       Action Adventure Fantasy Science Fiction cultu...\n",
       "1       Adventure Fantasy Action ocean drug abuse exot...\n",
       "2       Action Adventure Crime spy based on novel secr...\n",
       "3       Action Crime Drama Thriller dc comics crime fi...\n",
       "4       Action Adventure Science Fiction based on nove...\n",
       "                              ...                        \n",
       "4798    Action Crime Thriller united states\\u2013mexic...\n",
       "4799    Comedy Romance  A newlywed couple's honeymoon ...\n",
       "4800    Comedy Drama Romance TV Movie date love at fir...\n",
       "4801      When ambitious New York attorney Sam is sent...\n",
       "4802    Documentary obsession camcorder crush dream gi...\n",
       "Length: 4803, dtype: object"
      ]
     },
     "execution_count": 26,
     "metadata": {},
     "output_type": "execute_result"
    }
   ],
   "source": [
    "combined_feature"
   ]
  },
  {
   "cell_type": "code",
   "execution_count": 27,
   "id": "234c6359",
   "metadata": {},
   "outputs": [],
   "source": [
    "#convert text data to feature vectors\n",
    "vectorizer=TfidfVectorizer()\n",
    "feature_vectors=vectorizer.fit_transform(combined_feature)"
   ]
  },
  {
   "cell_type": "code",
   "execution_count": 28,
   "id": "315093a6",
   "metadata": {},
   "outputs": [
    {
     "name": "stdout",
     "output_type": "stream",
     "text": [
      "  (0, 4288)\t0.13213124585063996\n",
      "  (0, 14180)\t0.08418056281586364\n",
      "  (0, 23134)\t0.1498786462809525\n",
      "  (0, 17784)\t0.12285843797047787\n",
      "  (0, 15569)\t0.171366691592621\n",
      "  (0, 25868)\t0.11590870590502833\n",
      "  (0, 29614)\t0.15064979633862852\n",
      "  (0, 24802)\t0.158925784923944\n",
      "  (0, 23578)\t0.16802034155542864\n",
      "  (0, 30543)\t0.15064979633862852\n",
      "  (0, 30145)\t0.18243919685121024\n",
      "  (0, 23619)\t0.11047375838269538\n",
      "  (0, 19410)\t0.0318696249813729\n",
      "  (0, 30121)\t0.07272849549697494\n",
      "  (0, 9065)\t0.14505772980982928\n",
      "  (0, 5245)\t0.16506865163441015\n",
      "  (0, 1014)\t0.12285843797047787\n",
      "  (0, 1243)\t0.05270709034262741\n",
      "  (0, 21523)\t0.1665010643166998\n",
      "  (0, 1281)\t0.03195190270050669\n",
      "  (0, 19650)\t0.1612055740237117\n",
      "  (0, 10368)\t0.13848277654301597\n",
      "  (0, 2974)\t0.09974129089792806\n",
      "  (0, 27515)\t0.14569220419090678\n",
      "  (0, 2685)\t0.09805341831299116\n",
      "  :\t:\n",
      "  (4802, 27153)\t0.05940079357098276\n",
      "  (4802, 19243)\t0.061349419053434766\n",
      "  (4802, 11941)\t0.07829183421073846\n",
      "  (4802, 29680)\t0.07735547381237222\n",
      "  (4802, 9346)\t0.07104321122746965\n",
      "  (4802, 19483)\t0.05757432919831033\n",
      "  (4802, 30306)\t0.0593512722979831\n",
      "  (4802, 24504)\t0.04897198324821832\n",
      "  (4802, 12527)\t0.08061668713485996\n",
      "  (4802, 12323)\t0.10565937837404663\n",
      "  (4802, 29755)\t0.036184374171743805\n",
      "  (4802, 12717)\t0.02899680289385935\n",
      "  (4802, 18955)\t0.04455773536426332\n",
      "  (4802, 15645)\t0.07813193597235504\n",
      "  (4802, 30312)\t0.05775238797709079\n",
      "  (4802, 4153)\t0.03793736831281218\n",
      "  (4802, 10392)\t0.03306848520358465\n",
      "  (4802, 10694)\t0.03805519105109884\n",
      "  (4802, 12218)\t0.042630032311786255\n",
      "  (4802, 19543)\t0.04292974904848627\n",
      "  (4802, 1281)\t0.02048872312511076\n",
      "  (4802, 19541)\t0.031473948881636765\n",
      "  (4802, 27405)\t0.039775918665364306\n",
      "  (4802, 27118)\t0.035604383290964825\n",
      "  (4802, 13474)\t0.023391284288436915\n"
     ]
    }
   ],
   "source": [
    "print(feature_vectors)"
   ]
  },
  {
   "cell_type": "markdown",
   "id": "95b295e8",
   "metadata": {},
   "source": [
    "\n",
    "# cosine similarity"
   ]
  },
  {
   "cell_type": "code",
   "execution_count": 31,
   "id": "986da1e9",
   "metadata": {},
   "outputs": [
    {
     "name": "stdout",
     "output_type": "stream",
     "text": [
      "[[1.         0.05083168 0.0332947  ... 0.02749812 0.0304889  0.0072518 ]\n",
      " [0.05083168 1.         0.04356836 ... 0.05077045 0.03100979 0.01521198]\n",
      " [0.0332947  0.04356836 1.         ... 0.02646984 0.04751623 0.01372603]\n",
      " ...\n",
      " [0.02749812 0.05077045 0.02646984 ... 1.         0.03481447 0.03546821]\n",
      " [0.0304889  0.03100979 0.04751623 ... 0.03481447 1.         0.03098945]\n",
      " [0.0072518  0.01521198 0.01372603 ... 0.03546821 0.03098945 1.        ]]\n"
     ]
    }
   ],
   "source": [
    "#getting similarity score \n",
    "similarity=cosine_similarity(feature_vectors)\n",
    "print(similarity)"
   ]
  },
  {
   "cell_type": "code",
   "execution_count": 32,
   "id": "2b4844e8",
   "metadata": {},
   "outputs": [
    {
     "name": "stdout",
     "output_type": "stream",
     "text": [
      "(4803, 4803)\n"
     ]
    }
   ],
   "source": [
    "print(similarity.shape)"
   ]
  },
  {
   "cell_type": "code",
   "execution_count": 34,
   "id": "5a5f9a5d",
   "metadata": {},
   "outputs": [
    {
     "name": "stdout",
     "output_type": "stream",
     "text": [
      "enter the movie name :- iron man\n"
     ]
    }
   ],
   "source": [
    "# geting movie name from user\n",
    "movie_name=input(\"enter the movie name :- \")"
   ]
  },
  {
   "cell_type": "code",
   "execution_count": 35,
   "id": "9126c7a0",
   "metadata": {},
   "outputs": [],
   "source": [
    "#creating list with all movies names in dataset\n"
   ]
  },
  {
   "cell_type": "code",
   "execution_count": null,
   "id": "34e53658",
   "metadata": {},
   "outputs": [],
   "source": []
  },
  {
   "cell_type": "code",
   "execution_count": null,
   "id": "0eea4db3",
   "metadata": {},
   "outputs": [],
   "source": []
  },
  {
   "cell_type": "code",
   "execution_count": null,
   "id": "6bbabdd8",
   "metadata": {},
   "outputs": [],
   "source": []
  },
  {
   "cell_type": "code",
   "execution_count": null,
   "id": "8deb6a84",
   "metadata": {},
   "outputs": [],
   "source": []
  },
  {
   "cell_type": "code",
   "execution_count": null,
   "id": "ed50f19c",
   "metadata": {},
   "outputs": [],
   "source": []
  },
  {
   "cell_type": "code",
   "execution_count": null,
   "id": "d3ab3482",
   "metadata": {},
   "outputs": [],
   "source": []
  },
  {
   "cell_type": "code",
   "execution_count": null,
   "id": "6d6ec279",
   "metadata": {},
   "outputs": [],
   "source": []
  }
 ],
 "metadata": {
  "kernelspec": {
   "display_name": "Python 3 (ipykernel)",
   "language": "python",
   "name": "python3"
  },
  "language_info": {
   "codemirror_mode": {
    "name": "ipython",
    "version": 3
   },
   "file_extension": ".py",
   "mimetype": "text/x-python",
   "name": "python",
   "nbconvert_exporter": "python",
   "pygments_lexer": "ipython3",
   "version": "3.10.8"
  }
 },
 "nbformat": 4,
 "nbformat_minor": 5
}
